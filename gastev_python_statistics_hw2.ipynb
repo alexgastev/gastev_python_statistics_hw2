{
 "cells": [
  {
   "cell_type": "code",
   "execution_count": 249,
   "id": "58a5db2b",
   "metadata": {},
   "outputs": [],
   "source": [
    "import numpy as np\n",
    "import pandas as pd\n",
    "import matplotlib.pyplot as plt\n",
    "import seaborn as sns"
   ]
  },
  {
   "cell_type": "code",
   "execution_count": 250,
   "id": "d49ab79a",
   "metadata": {},
   "outputs": [],
   "source": [
    "df = pd.read_csv('mxmh_survey_results.csv')"
   ]
  },
  {
   "cell_type": "code",
   "execution_count": 251,
   "id": "e469b0ba",
   "metadata": {},
   "outputs": [
    {
     "data": {
      "text/html": [
       "<div>\n",
       "<style scoped>\n",
       "    .dataframe tbody tr th:only-of-type {\n",
       "        vertical-align: middle;\n",
       "    }\n",
       "\n",
       "    .dataframe tbody tr th {\n",
       "        vertical-align: top;\n",
       "    }\n",
       "\n",
       "    .dataframe thead th {\n",
       "        text-align: right;\n",
       "    }\n",
       "</style>\n",
       "<table border=\"1\" class=\"dataframe\">\n",
       "  <thead>\n",
       "    <tr style=\"text-align: right;\">\n",
       "      <th></th>\n",
       "      <th>Timestamp</th>\n",
       "      <th>Age</th>\n",
       "      <th>Primary streaming service</th>\n",
       "      <th>Hours per day</th>\n",
       "      <th>While working</th>\n",
       "      <th>Instrumentalist</th>\n",
       "      <th>Composer</th>\n",
       "      <th>Fav genre</th>\n",
       "      <th>Exploratory</th>\n",
       "      <th>Foreign languages</th>\n",
       "      <th>...</th>\n",
       "      <th>Frequency [R&amp;B]</th>\n",
       "      <th>Frequency [Rap]</th>\n",
       "      <th>Frequency [Rock]</th>\n",
       "      <th>Frequency [Video game music]</th>\n",
       "      <th>Anxiety</th>\n",
       "      <th>Depression</th>\n",
       "      <th>Insomnia</th>\n",
       "      <th>OCD</th>\n",
       "      <th>Music effects</th>\n",
       "      <th>Permissions</th>\n",
       "    </tr>\n",
       "  </thead>\n",
       "  <tbody>\n",
       "    <tr>\n",
       "      <th>0</th>\n",
       "      <td>8/27/2022 19:29:02</td>\n",
       "      <td>18.0</td>\n",
       "      <td>Spotify</td>\n",
       "      <td>3.0</td>\n",
       "      <td>Yes</td>\n",
       "      <td>Yes</td>\n",
       "      <td>Yes</td>\n",
       "      <td>Latin</td>\n",
       "      <td>Yes</td>\n",
       "      <td>Yes</td>\n",
       "      <td>...</td>\n",
       "      <td>Sometimes</td>\n",
       "      <td>Very frequently</td>\n",
       "      <td>Never</td>\n",
       "      <td>Sometimes</td>\n",
       "      <td>3.0</td>\n",
       "      <td>0.0</td>\n",
       "      <td>1.0</td>\n",
       "      <td>0.0</td>\n",
       "      <td>NaN</td>\n",
       "      <td>I understand.</td>\n",
       "    </tr>\n",
       "    <tr>\n",
       "      <th>1</th>\n",
       "      <td>8/27/2022 19:57:31</td>\n",
       "      <td>63.0</td>\n",
       "      <td>Pandora</td>\n",
       "      <td>1.5</td>\n",
       "      <td>Yes</td>\n",
       "      <td>No</td>\n",
       "      <td>No</td>\n",
       "      <td>Rock</td>\n",
       "      <td>Yes</td>\n",
       "      <td>No</td>\n",
       "      <td>...</td>\n",
       "      <td>Sometimes</td>\n",
       "      <td>Rarely</td>\n",
       "      <td>Very frequently</td>\n",
       "      <td>Rarely</td>\n",
       "      <td>7.0</td>\n",
       "      <td>2.0</td>\n",
       "      <td>2.0</td>\n",
       "      <td>1.0</td>\n",
       "      <td>NaN</td>\n",
       "      <td>I understand.</td>\n",
       "    </tr>\n",
       "    <tr>\n",
       "      <th>2</th>\n",
       "      <td>8/27/2022 21:28:18</td>\n",
       "      <td>18.0</td>\n",
       "      <td>Spotify</td>\n",
       "      <td>4.0</td>\n",
       "      <td>No</td>\n",
       "      <td>No</td>\n",
       "      <td>No</td>\n",
       "      <td>Video game music</td>\n",
       "      <td>No</td>\n",
       "      <td>Yes</td>\n",
       "      <td>...</td>\n",
       "      <td>Never</td>\n",
       "      <td>Rarely</td>\n",
       "      <td>Rarely</td>\n",
       "      <td>Very frequently</td>\n",
       "      <td>7.0</td>\n",
       "      <td>7.0</td>\n",
       "      <td>10.0</td>\n",
       "      <td>2.0</td>\n",
       "      <td>No effect</td>\n",
       "      <td>I understand.</td>\n",
       "    </tr>\n",
       "    <tr>\n",
       "      <th>3</th>\n",
       "      <td>8/27/2022 21:40:40</td>\n",
       "      <td>61.0</td>\n",
       "      <td>YouTube Music</td>\n",
       "      <td>2.5</td>\n",
       "      <td>Yes</td>\n",
       "      <td>No</td>\n",
       "      <td>Yes</td>\n",
       "      <td>Jazz</td>\n",
       "      <td>Yes</td>\n",
       "      <td>Yes</td>\n",
       "      <td>...</td>\n",
       "      <td>Sometimes</td>\n",
       "      <td>Never</td>\n",
       "      <td>Never</td>\n",
       "      <td>Never</td>\n",
       "      <td>9.0</td>\n",
       "      <td>7.0</td>\n",
       "      <td>3.0</td>\n",
       "      <td>3.0</td>\n",
       "      <td>Improve</td>\n",
       "      <td>I understand.</td>\n",
       "    </tr>\n",
       "    <tr>\n",
       "      <th>4</th>\n",
       "      <td>8/27/2022 21:54:47</td>\n",
       "      <td>18.0</td>\n",
       "      <td>Spotify</td>\n",
       "      <td>4.0</td>\n",
       "      <td>Yes</td>\n",
       "      <td>No</td>\n",
       "      <td>No</td>\n",
       "      <td>R&amp;B</td>\n",
       "      <td>Yes</td>\n",
       "      <td>No</td>\n",
       "      <td>...</td>\n",
       "      <td>Very frequently</td>\n",
       "      <td>Very frequently</td>\n",
       "      <td>Never</td>\n",
       "      <td>Rarely</td>\n",
       "      <td>7.0</td>\n",
       "      <td>2.0</td>\n",
       "      <td>5.0</td>\n",
       "      <td>9.0</td>\n",
       "      <td>Improve</td>\n",
       "      <td>I understand.</td>\n",
       "    </tr>\n",
       "  </tbody>\n",
       "</table>\n",
       "<p>5 rows × 33 columns</p>\n",
       "</div>"
      ],
      "text/plain": [
       "            Timestamp   Age Primary streaming service  Hours per day  \\\n",
       "0  8/27/2022 19:29:02  18.0                   Spotify            3.0   \n",
       "1  8/27/2022 19:57:31  63.0                   Pandora            1.5   \n",
       "2  8/27/2022 21:28:18  18.0                   Spotify            4.0   \n",
       "3  8/27/2022 21:40:40  61.0             YouTube Music            2.5   \n",
       "4  8/27/2022 21:54:47  18.0                   Spotify            4.0   \n",
       "\n",
       "  While working Instrumentalist Composer         Fav genre Exploratory  \\\n",
       "0           Yes             Yes      Yes             Latin         Yes   \n",
       "1           Yes              No       No              Rock         Yes   \n",
       "2            No              No       No  Video game music          No   \n",
       "3           Yes              No      Yes              Jazz         Yes   \n",
       "4           Yes              No       No               R&B         Yes   \n",
       "\n",
       "  Foreign languages  ...  Frequency [R&B]  Frequency [Rap] Frequency [Rock]  \\\n",
       "0               Yes  ...        Sometimes  Very frequently            Never   \n",
       "1                No  ...        Sometimes           Rarely  Very frequently   \n",
       "2               Yes  ...            Never           Rarely           Rarely   \n",
       "3               Yes  ...        Sometimes            Never            Never   \n",
       "4                No  ...  Very frequently  Very frequently            Never   \n",
       "\n",
       "  Frequency [Video game music] Anxiety Depression Insomnia  OCD Music effects  \\\n",
       "0                    Sometimes     3.0        0.0      1.0  0.0           NaN   \n",
       "1                       Rarely     7.0        2.0      2.0  1.0           NaN   \n",
       "2              Very frequently     7.0        7.0     10.0  2.0     No effect   \n",
       "3                        Never     9.0        7.0      3.0  3.0       Improve   \n",
       "4                       Rarely     7.0        2.0      5.0  9.0       Improve   \n",
       "\n",
       "     Permissions  \n",
       "0  I understand.  \n",
       "1  I understand.  \n",
       "2  I understand.  \n",
       "3  I understand.  \n",
       "4  I understand.  \n",
       "\n",
       "[5 rows x 33 columns]"
      ]
     },
     "execution_count": 251,
     "metadata": {},
     "output_type": "execute_result"
    }
   ],
   "source": [
    "df.head()"
   ]
  },
  {
   "cell_type": "code",
   "execution_count": 4,
   "id": "6f607c0d",
   "metadata": {},
   "outputs": [
    {
     "name": "stdout",
     "output_type": "stream",
     "text": [
      "<class 'pandas.core.frame.DataFrame'>\n",
      "RangeIndex: 736 entries, 0 to 735\n",
      "Data columns (total 33 columns):\n",
      " #   Column                        Non-Null Count  Dtype  \n",
      "---  ------                        --------------  -----  \n",
      " 0   Timestamp                     736 non-null    object \n",
      " 1   Age                           735 non-null    float64\n",
      " 2   Primary streaming service     735 non-null    object \n",
      " 3   Hours per day                 736 non-null    float64\n",
      " 4   While working                 733 non-null    object \n",
      " 5   Instrumentalist               732 non-null    object \n",
      " 6   Composer                      735 non-null    object \n",
      " 7   Fav genre                     736 non-null    object \n",
      " 8   Exploratory                   736 non-null    object \n",
      " 9   Foreign languages             732 non-null    object \n",
      " 10  BPM                           629 non-null    float64\n",
      " 11  Frequency [Classical]         736 non-null    object \n",
      " 12  Frequency [Country]           736 non-null    object \n",
      " 13  Frequency [EDM]               736 non-null    object \n",
      " 14  Frequency [Folk]              736 non-null    object \n",
      " 15  Frequency [Gospel]            736 non-null    object \n",
      " 16  Frequency [Hip hop]           736 non-null    object \n",
      " 17  Frequency [Jazz]              736 non-null    object \n",
      " 18  Frequency [K pop]             736 non-null    object \n",
      " 19  Frequency [Latin]             736 non-null    object \n",
      " 20  Frequency [Lofi]              736 non-null    object \n",
      " 21  Frequency [Metal]             736 non-null    object \n",
      " 22  Frequency [Pop]               736 non-null    object \n",
      " 23  Frequency [R&B]               736 non-null    object \n",
      " 24  Frequency [Rap]               736 non-null    object \n",
      " 25  Frequency [Rock]              736 non-null    object \n",
      " 26  Frequency [Video game music]  736 non-null    object \n",
      " 27  Anxiety                       736 non-null    float64\n",
      " 28  Depression                    736 non-null    float64\n",
      " 29  Insomnia                      736 non-null    float64\n",
      " 30  OCD                           736 non-null    float64\n",
      " 31  Music effects                 728 non-null    object \n",
      " 32  Permissions                   736 non-null    object \n",
      "dtypes: float64(7), object(26)\n",
      "memory usage: 189.9+ KB\n"
     ]
    }
   ],
   "source": [
    "df.info()"
   ]
  },
  {
   "cell_type": "code",
   "execution_count": 252,
   "id": "439f3b2c",
   "metadata": {},
   "outputs": [
    {
     "data": {
      "text/plain": [
       "Index(['Timestamp', 'Age', 'Primary streaming service', 'Hours per day',\n",
       "       'While working', 'Instrumentalist', 'Composer', 'Fav genre',\n",
       "       'Exploratory', 'Foreign languages', 'BPM', 'Frequency [Classical]',\n",
       "       'Frequency [Country]', 'Frequency [EDM]', 'Frequency [Folk]',\n",
       "       'Frequency [Gospel]', 'Frequency [Hip hop]', 'Frequency [Jazz]',\n",
       "       'Frequency [K pop]', 'Frequency [Latin]', 'Frequency [Lofi]',\n",
       "       'Frequency [Metal]', 'Frequency [Pop]', 'Frequency [R&B]',\n",
       "       'Frequency [Rap]', 'Frequency [Rock]', 'Frequency [Video game music]',\n",
       "       'Anxiety', 'Depression', 'Insomnia', 'OCD', 'Music effects',\n",
       "       'Permissions'],\n",
       "      dtype='object')"
      ]
     },
     "execution_count": 252,
     "metadata": {},
     "output_type": "execute_result"
    }
   ],
   "source": [
    "df.columns"
   ]
  },
  {
   "cell_type": "markdown",
   "id": "f4286fb3",
   "metadata": {},
   "source": [
    "## Первичная обработка данных"
   ]
  },
  {
   "cell_type": "markdown",
   "id": "2289ebec",
   "metadata": {},
   "source": [
    "### Заполняем пропуски"
   ]
  },
  {
   "cell_type": "code",
   "execution_count": 253,
   "id": "72117336",
   "metadata": {},
   "outputs": [
    {
     "data": {
      "text/html": [
       "<div>\n",
       "<style scoped>\n",
       "    .dataframe tbody tr th:only-of-type {\n",
       "        vertical-align: middle;\n",
       "    }\n",
       "\n",
       "    .dataframe tbody tr th {\n",
       "        vertical-align: top;\n",
       "    }\n",
       "\n",
       "    .dataframe thead th {\n",
       "        text-align: right;\n",
       "    }\n",
       "</style>\n",
       "<table border=\"1\" class=\"dataframe\">\n",
       "  <thead>\n",
       "    <tr style=\"text-align: right;\">\n",
       "      <th></th>\n",
       "      <th>Timestamp</th>\n",
       "      <th>Age</th>\n",
       "      <th>Primary streaming service</th>\n",
       "      <th>Hours per day</th>\n",
       "      <th>While working</th>\n",
       "      <th>Instrumentalist</th>\n",
       "      <th>Composer</th>\n",
       "      <th>Fav genre</th>\n",
       "      <th>Exploratory</th>\n",
       "      <th>Foreign languages</th>\n",
       "      <th>...</th>\n",
       "      <th>Frequency [R&amp;B]</th>\n",
       "      <th>Frequency [Rap]</th>\n",
       "      <th>Frequency [Rock]</th>\n",
       "      <th>Frequency [Video game music]</th>\n",
       "      <th>Anxiety</th>\n",
       "      <th>Depression</th>\n",
       "      <th>Insomnia</th>\n",
       "      <th>OCD</th>\n",
       "      <th>Music effects</th>\n",
       "      <th>Permissions</th>\n",
       "    </tr>\n",
       "  </thead>\n",
       "  <tbody>\n",
       "    <tr>\n",
       "      <th>12</th>\n",
       "      <td>8/27/2022 23:04:00</td>\n",
       "      <td>NaN</td>\n",
       "      <td>Spotify</td>\n",
       "      <td>3.0</td>\n",
       "      <td>Yes</td>\n",
       "      <td>No</td>\n",
       "      <td>No</td>\n",
       "      <td>Hip hop</td>\n",
       "      <td>Yes</td>\n",
       "      <td>Yes</td>\n",
       "      <td>...</td>\n",
       "      <td>Sometimes</td>\n",
       "      <td>Rarely</td>\n",
       "      <td>Rarely</td>\n",
       "      <td>Never</td>\n",
       "      <td>9.0</td>\n",
       "      <td>3.0</td>\n",
       "      <td>2.0</td>\n",
       "      <td>7.0</td>\n",
       "      <td>Improve</td>\n",
       "      <td>I understand.</td>\n",
       "    </tr>\n",
       "  </tbody>\n",
       "</table>\n",
       "<p>1 rows × 33 columns</p>\n",
       "</div>"
      ],
      "text/plain": [
       "             Timestamp  Age Primary streaming service  Hours per day  \\\n",
       "12  8/27/2022 23:04:00  NaN                   Spotify            3.0   \n",
       "\n",
       "   While working Instrumentalist Composer Fav genre Exploratory  \\\n",
       "12           Yes              No       No   Hip hop         Yes   \n",
       "\n",
       "   Foreign languages  ...  Frequency [R&B] Frequency [Rap] Frequency [Rock]  \\\n",
       "12               Yes  ...        Sometimes          Rarely           Rarely   \n",
       "\n",
       "   Frequency [Video game music] Anxiety Depression Insomnia  OCD  \\\n",
       "12                        Never     9.0        3.0      2.0  7.0   \n",
       "\n",
       "   Music effects    Permissions  \n",
       "12       Improve  I understand.  \n",
       "\n",
       "[1 rows x 33 columns]"
      ]
     },
     "execution_count": 253,
     "metadata": {},
     "output_type": "execute_result"
    }
   ],
   "source": [
    "# возраст (1 пропуск)\n",
    "df[df['Age'].isnull()]"
   ]
  },
  {
   "cell_type": "code",
   "execution_count": 254,
   "id": "79010da8",
   "metadata": {},
   "outputs": [
    {
     "name": "stdout",
     "output_type": "stream",
     "text": [
      "Age\n",
      "12.0     2\n",
      "13.0     5\n",
      "14.0    12\n",
      "15.0    15\n",
      "16.0    33\n",
      "17.0    43\n",
      "18.0    58\n",
      "19.0    44\n",
      "20.0    22\n",
      "21.0    32\n",
      "22.0    25\n",
      "23.0    24\n",
      "24.0    13\n",
      "25.0    15\n",
      "26.0    17\n",
      "27.0    15\n",
      "28.0     7\n",
      "29.0     6\n",
      "30.0     7\n",
      "31.0     9\n",
      "32.0    10\n",
      "33.0     3\n",
      "34.0     4\n",
      "35.0     6\n",
      "36.0     2\n",
      "37.0     4\n",
      "38.0     5\n",
      "39.0     1\n",
      "40.0     2\n",
      "41.0     2\n",
      "42.0     2\n",
      "43.0     1\n",
      "44.0     1\n",
      "48.0     1\n",
      "49.0     2\n",
      "53.0     1\n",
      "57.0     1\n",
      "60.0     2\n",
      "63.0     1\n",
      "72.0     1\n",
      "89.0     1\n",
      "dtype: int64\n",
      "Age\n",
      "15.0    2\n",
      "16.0    2\n",
      "17.0    4\n",
      "18.0    5\n",
      "19.0    2\n",
      "20.0    2\n",
      "21.0    1\n",
      "22.0    2\n",
      "23.0    3\n",
      "26.0    2\n",
      "27.0    1\n",
      "28.0    1\n",
      "29.0    2\n",
      "32.0    1\n",
      "35.0    1\n",
      "36.0    1\n",
      "39.0    1\n",
      "58.0    1\n",
      "dtype: int64\n"
     ]
    }
   ],
   "source": [
    "# Делаем гипотезу, что возраст зависит от стримингового сервиса и любимого типа музыки.\n",
    "print(df[df['Primary streaming service'] == 'Spotify'].groupby('Age').size())\n",
    "print(df[df['Fav genre'] == 'Hip hop'].groupby('Age').size())"
   ]
  },
  {
   "cell_type": "code",
   "execution_count": 255,
   "id": "ea69dc32",
   "metadata": {},
   "outputs": [],
   "source": [
    "# в обоих случаях максимальное количество совпадений - 18 лет, заполняем пропуск возрастом 18\n",
    "df['Age'] = df['Age'].fillna(18)"
   ]
  },
  {
   "cell_type": "code",
   "execution_count": 256,
   "id": "40933d37",
   "metadata": {},
   "outputs": [
    {
     "data": {
      "text/html": [
       "<div>\n",
       "<style scoped>\n",
       "    .dataframe tbody tr th:only-of-type {\n",
       "        vertical-align: middle;\n",
       "    }\n",
       "\n",
       "    .dataframe tbody tr th {\n",
       "        vertical-align: top;\n",
       "    }\n",
       "\n",
       "    .dataframe thead th {\n",
       "        text-align: right;\n",
       "    }\n",
       "</style>\n",
       "<table border=\"1\" class=\"dataframe\">\n",
       "  <thead>\n",
       "    <tr style=\"text-align: right;\">\n",
       "      <th></th>\n",
       "      <th>Timestamp</th>\n",
       "      <th>Age</th>\n",
       "      <th>Primary streaming service</th>\n",
       "      <th>Hours per day</th>\n",
       "      <th>While working</th>\n",
       "      <th>Instrumentalist</th>\n",
       "      <th>Composer</th>\n",
       "      <th>Fav genre</th>\n",
       "      <th>Exploratory</th>\n",
       "      <th>Foreign languages</th>\n",
       "      <th>...</th>\n",
       "      <th>Frequency [R&amp;B]</th>\n",
       "      <th>Frequency [Rap]</th>\n",
       "      <th>Frequency [Rock]</th>\n",
       "      <th>Frequency [Video game music]</th>\n",
       "      <th>Anxiety</th>\n",
       "      <th>Depression</th>\n",
       "      <th>Insomnia</th>\n",
       "      <th>OCD</th>\n",
       "      <th>Music effects</th>\n",
       "      <th>Permissions</th>\n",
       "    </tr>\n",
       "  </thead>\n",
       "  <tbody>\n",
       "    <tr>\n",
       "      <th>197</th>\n",
       "      <td>8/28/2022 20:50:37</td>\n",
       "      <td>21.0</td>\n",
       "      <td>NaN</td>\n",
       "      <td>5.0</td>\n",
       "      <td>Yes</td>\n",
       "      <td>No</td>\n",
       "      <td>No</td>\n",
       "      <td>Country</td>\n",
       "      <td>Yes</td>\n",
       "      <td>No</td>\n",
       "      <td>...</td>\n",
       "      <td>Never</td>\n",
       "      <td>Rarely</td>\n",
       "      <td>Very frequently</td>\n",
       "      <td>Never</td>\n",
       "      <td>9.0</td>\n",
       "      <td>8.0</td>\n",
       "      <td>9.0</td>\n",
       "      <td>7.0</td>\n",
       "      <td>Improve</td>\n",
       "      <td>I understand.</td>\n",
       "    </tr>\n",
       "  </tbody>\n",
       "</table>\n",
       "<p>1 rows × 33 columns</p>\n",
       "</div>"
      ],
      "text/plain": [
       "              Timestamp   Age Primary streaming service  Hours per day  \\\n",
       "197  8/28/2022 20:50:37  21.0                       NaN            5.0   \n",
       "\n",
       "    While working Instrumentalist Composer Fav genre Exploratory  \\\n",
       "197           Yes              No       No   Country         Yes   \n",
       "\n",
       "    Foreign languages  ...  Frequency [R&B] Frequency [Rap] Frequency [Rock]  \\\n",
       "197                No  ...            Never          Rarely  Very frequently   \n",
       "\n",
       "    Frequency [Video game music] Anxiety Depression Insomnia  OCD  \\\n",
       "197                        Never     9.0        8.0      9.0  7.0   \n",
       "\n",
       "    Music effects    Permissions  \n",
       "197       Improve  I understand.  \n",
       "\n",
       "[1 rows x 33 columns]"
      ]
     },
     "execution_count": 256,
     "metadata": {},
     "output_type": "execute_result"
    }
   ],
   "source": [
    "# стриминговый сервис (1 пропуск)\n",
    "df[df['Primary streaming service'].isnull()]"
   ]
  },
  {
   "cell_type": "code",
   "execution_count": 95,
   "id": "83baa322",
   "metadata": {},
   "outputs": [
    {
     "data": {
      "text/plain": [
       "Primary streaming service\n",
       "Apple Music                           4\n",
       "I do not use a streaming service.     6\n",
       "Other streaming service               1\n",
       "Spotify                              32\n",
       "YouTube Music                         8\n",
       "dtype: int64"
      ]
     },
     "execution_count": 95,
     "metadata": {},
     "output_type": "execute_result"
    }
   ],
   "source": [
    "# смотрим, какой сервис использует большинство пользователей возраста 21 \n",
    "df[df['Age'] == 21].groupby('Primary streaming service').size()"
   ]
  },
  {
   "cell_type": "code",
   "execution_count": 257,
   "id": "fb82e80b",
   "metadata": {},
   "outputs": [],
   "source": [
    "# заполняем пропуск сервисом Spotify\n",
    "df['Primary streaming service'] = df['Primary streaming service'].fillna('Spotify')"
   ]
  },
  {
   "cell_type": "code",
   "execution_count": null,
   "id": "87038527",
   "metadata": {},
   "outputs": [],
   "source": [
    "# дальше не стал пропуски заполнять, т.к. учебный кейс"
   ]
  },
  {
   "cell_type": "markdown",
   "id": "d0d29b05",
   "metadata": {},
   "source": [
    "### Меняем данные object на цифровые для возможности анализа"
   ]
  },
  {
   "cell_type": "code",
   "execution_count": 258,
   "id": "0fa72cea",
   "metadata": {},
   "outputs": [
    {
     "data": {
      "text/plain": [
       "'\\nМеняем ответ obj на значение:\\nNever - 0\\nRarely - 1\\nSometimes - 2\\nVery frequently - 3\\n'"
      ]
     },
     "execution_count": 258,
     "metadata": {},
     "output_type": "execute_result"
    }
   ],
   "source": [
    "'''\n",
    "Меняем ответ obj на значение:\n",
    "Never - 0\n",
    "Rarely - 1\n",
    "Sometimes - 2\n",
    "Very frequently - 3\n",
    "'''"
   ]
  },
  {
   "cell_type": "code",
   "execution_count": 259,
   "id": "8840cd44",
   "metadata": {},
   "outputs": [],
   "source": [
    "def listener(x):\n",
    "    mydict = {'Never': 0, 'Rarely': 1, 'Sometimes': 2, 'Very frequently': 3}\n",
    "    return mydict[x]"
   ]
  },
  {
   "cell_type": "code",
   "execution_count": 260,
   "id": "ae52615b",
   "metadata": {},
   "outputs": [],
   "source": [
    "for i in df.columns[11:27]:\n",
    "    df[i] = df[i].apply(listener)"
   ]
  },
  {
   "cell_type": "code",
   "execution_count": 102,
   "id": "c631b9aa",
   "metadata": {},
   "outputs": [],
   "source": [
    "def musician(x):\n",
    "    mydict = {'Yes': 1, 'No': 0}\n",
    "    try:\n",
    "        return mydict[x]\n",
    "    except:\n",
    "        return 0"
   ]
  },
  {
   "cell_type": "code",
   "execution_count": 103,
   "id": "718ab5b9",
   "metadata": {},
   "outputs": [],
   "source": [
    "# заменим в колонках while working, instrumentalist, composer Yes на 1, No на 0. Если данных нет, ставим 0\n",
    "for i in df.columns[4:7]:\n",
    "    df[i] = df[i].apply(musician)"
   ]
  },
  {
   "cell_type": "code",
   "execution_count": 261,
   "id": "8f580214",
   "metadata": {},
   "outputs": [
    {
     "data": {
      "text/html": [
       "<div>\n",
       "<style scoped>\n",
       "    .dataframe tbody tr th:only-of-type {\n",
       "        vertical-align: middle;\n",
       "    }\n",
       "\n",
       "    .dataframe tbody tr th {\n",
       "        vertical-align: top;\n",
       "    }\n",
       "\n",
       "    .dataframe thead th {\n",
       "        text-align: right;\n",
       "    }\n",
       "</style>\n",
       "<table border=\"1\" class=\"dataframe\">\n",
       "  <thead>\n",
       "    <tr style=\"text-align: right;\">\n",
       "      <th></th>\n",
       "      <th>Timestamp</th>\n",
       "      <th>Age</th>\n",
       "      <th>Primary streaming service</th>\n",
       "      <th>Hours per day</th>\n",
       "      <th>While working</th>\n",
       "      <th>Instrumentalist</th>\n",
       "      <th>Composer</th>\n",
       "      <th>Fav genre</th>\n",
       "      <th>Exploratory</th>\n",
       "      <th>Foreign languages</th>\n",
       "      <th>...</th>\n",
       "      <th>Frequency [R&amp;B]</th>\n",
       "      <th>Frequency [Rap]</th>\n",
       "      <th>Frequency [Rock]</th>\n",
       "      <th>Frequency [Video game music]</th>\n",
       "      <th>Anxiety</th>\n",
       "      <th>Depression</th>\n",
       "      <th>Insomnia</th>\n",
       "      <th>OCD</th>\n",
       "      <th>Music effects</th>\n",
       "      <th>Permissions</th>\n",
       "    </tr>\n",
       "  </thead>\n",
       "  <tbody>\n",
       "    <tr>\n",
       "      <th>0</th>\n",
       "      <td>8/27/2022 19:29:02</td>\n",
       "      <td>18.0</td>\n",
       "      <td>Spotify</td>\n",
       "      <td>3.0</td>\n",
       "      <td>Yes</td>\n",
       "      <td>Yes</td>\n",
       "      <td>Yes</td>\n",
       "      <td>Latin</td>\n",
       "      <td>Yes</td>\n",
       "      <td>Yes</td>\n",
       "      <td>...</td>\n",
       "      <td>2</td>\n",
       "      <td>3</td>\n",
       "      <td>0</td>\n",
       "      <td>2</td>\n",
       "      <td>3.0</td>\n",
       "      <td>0.0</td>\n",
       "      <td>1.0</td>\n",
       "      <td>0.0</td>\n",
       "      <td>NaN</td>\n",
       "      <td>I understand.</td>\n",
       "    </tr>\n",
       "    <tr>\n",
       "      <th>1</th>\n",
       "      <td>8/27/2022 19:57:31</td>\n",
       "      <td>63.0</td>\n",
       "      <td>Pandora</td>\n",
       "      <td>1.5</td>\n",
       "      <td>Yes</td>\n",
       "      <td>No</td>\n",
       "      <td>No</td>\n",
       "      <td>Rock</td>\n",
       "      <td>Yes</td>\n",
       "      <td>No</td>\n",
       "      <td>...</td>\n",
       "      <td>2</td>\n",
       "      <td>1</td>\n",
       "      <td>3</td>\n",
       "      <td>1</td>\n",
       "      <td>7.0</td>\n",
       "      <td>2.0</td>\n",
       "      <td>2.0</td>\n",
       "      <td>1.0</td>\n",
       "      <td>NaN</td>\n",
       "      <td>I understand.</td>\n",
       "    </tr>\n",
       "    <tr>\n",
       "      <th>2</th>\n",
       "      <td>8/27/2022 21:28:18</td>\n",
       "      <td>18.0</td>\n",
       "      <td>Spotify</td>\n",
       "      <td>4.0</td>\n",
       "      <td>No</td>\n",
       "      <td>No</td>\n",
       "      <td>No</td>\n",
       "      <td>Video game music</td>\n",
       "      <td>No</td>\n",
       "      <td>Yes</td>\n",
       "      <td>...</td>\n",
       "      <td>0</td>\n",
       "      <td>1</td>\n",
       "      <td>1</td>\n",
       "      <td>3</td>\n",
       "      <td>7.0</td>\n",
       "      <td>7.0</td>\n",
       "      <td>10.0</td>\n",
       "      <td>2.0</td>\n",
       "      <td>No effect</td>\n",
       "      <td>I understand.</td>\n",
       "    </tr>\n",
       "    <tr>\n",
       "      <th>3</th>\n",
       "      <td>8/27/2022 21:40:40</td>\n",
       "      <td>61.0</td>\n",
       "      <td>YouTube Music</td>\n",
       "      <td>2.5</td>\n",
       "      <td>Yes</td>\n",
       "      <td>No</td>\n",
       "      <td>Yes</td>\n",
       "      <td>Jazz</td>\n",
       "      <td>Yes</td>\n",
       "      <td>Yes</td>\n",
       "      <td>...</td>\n",
       "      <td>2</td>\n",
       "      <td>0</td>\n",
       "      <td>0</td>\n",
       "      <td>0</td>\n",
       "      <td>9.0</td>\n",
       "      <td>7.0</td>\n",
       "      <td>3.0</td>\n",
       "      <td>3.0</td>\n",
       "      <td>Improve</td>\n",
       "      <td>I understand.</td>\n",
       "    </tr>\n",
       "    <tr>\n",
       "      <th>4</th>\n",
       "      <td>8/27/2022 21:54:47</td>\n",
       "      <td>18.0</td>\n",
       "      <td>Spotify</td>\n",
       "      <td>4.0</td>\n",
       "      <td>Yes</td>\n",
       "      <td>No</td>\n",
       "      <td>No</td>\n",
       "      <td>R&amp;B</td>\n",
       "      <td>Yes</td>\n",
       "      <td>No</td>\n",
       "      <td>...</td>\n",
       "      <td>3</td>\n",
       "      <td>3</td>\n",
       "      <td>0</td>\n",
       "      <td>1</td>\n",
       "      <td>7.0</td>\n",
       "      <td>2.0</td>\n",
       "      <td>5.0</td>\n",
       "      <td>9.0</td>\n",
       "      <td>Improve</td>\n",
       "      <td>I understand.</td>\n",
       "    </tr>\n",
       "  </tbody>\n",
       "</table>\n",
       "<p>5 rows × 33 columns</p>\n",
       "</div>"
      ],
      "text/plain": [
       "            Timestamp   Age Primary streaming service  Hours per day  \\\n",
       "0  8/27/2022 19:29:02  18.0                   Spotify            3.0   \n",
       "1  8/27/2022 19:57:31  63.0                   Pandora            1.5   \n",
       "2  8/27/2022 21:28:18  18.0                   Spotify            4.0   \n",
       "3  8/27/2022 21:40:40  61.0             YouTube Music            2.5   \n",
       "4  8/27/2022 21:54:47  18.0                   Spotify            4.0   \n",
       "\n",
       "  While working Instrumentalist Composer         Fav genre Exploratory  \\\n",
       "0           Yes             Yes      Yes             Latin         Yes   \n",
       "1           Yes              No       No              Rock         Yes   \n",
       "2            No              No       No  Video game music          No   \n",
       "3           Yes              No      Yes              Jazz         Yes   \n",
       "4           Yes              No       No               R&B         Yes   \n",
       "\n",
       "  Foreign languages  ...  Frequency [R&B]  Frequency [Rap]  Frequency [Rock]  \\\n",
       "0               Yes  ...                2                3                 0   \n",
       "1                No  ...                2                1                 3   \n",
       "2               Yes  ...                0                1                 1   \n",
       "3               Yes  ...                2                0                 0   \n",
       "4                No  ...                3                3                 0   \n",
       "\n",
       "   Frequency [Video game music]  Anxiety  Depression  Insomnia  OCD  \\\n",
       "0                             2      3.0         0.0       1.0  0.0   \n",
       "1                             1      7.0         2.0       2.0  1.0   \n",
       "2                             3      7.0         7.0      10.0  2.0   \n",
       "3                             0      9.0         7.0       3.0  3.0   \n",
       "4                             1      7.0         2.0       5.0  9.0   \n",
       "\n",
       "   Music effects    Permissions  \n",
       "0            NaN  I understand.  \n",
       "1            NaN  I understand.  \n",
       "2      No effect  I understand.  \n",
       "3        Improve  I understand.  \n",
       "4        Improve  I understand.  \n",
       "\n",
       "[5 rows x 33 columns]"
      ]
     },
     "execution_count": 261,
     "metadata": {},
     "output_type": "execute_result"
    }
   ],
   "source": [
    "df.head()"
   ]
  },
  {
   "cell_type": "markdown",
   "id": "e96c0c5c",
   "metadata": {},
   "source": [
    "## Графики"
   ]
  },
  {
   "cell_type": "markdown",
   "id": "4007765c",
   "metadata": {},
   "source": [
    "### 1. Гистограмма"
   ]
  },
  {
   "cell_type": "code",
   "execution_count": 264,
   "id": "93e1aa95",
   "metadata": {},
   "outputs": [
    {
     "data": {
      "text/plain": [
       "<AxesSubplot:ylabel='Frequency'>"
      ]
     },
     "execution_count": 264,
     "metadata": {},
     "output_type": "execute_result"
    },
    {
     "data": {
      "image/png": "[encoded data removed]",
      "text/plain": [
       "<Figure size 432x288 with 1 Axes>"
      ]
     },
     "metadata": {
      "needs_background": "light"
     },
     "output_type": "display_data"
    }
   ],
   "source": [
    "#Посмотрим, как часто вообще люди случают музыку (сколько часов в день)\n",
    "df['Hours per day'].plot(kind='hist', bins=20)"
   ]
  },
  {
   "cell_type": "code",
   "execution_count": 265,
   "id": "af8a1a88",
   "metadata": {},
   "outputs": [
    {
     "data": {
      "text/plain": [
       "24.0"
      ]
     },
     "execution_count": 265,
     "metadata": {},
     "output_type": "execute_result"
    }
   ],
   "source": [
    "df['Hours per day'].max()"
   ]
  },
  {
   "cell_type": "code",
   "execution_count": 266,
   "id": "a62e8ec0",
   "metadata": {},
   "outputs": [],
   "source": [
    "# видим сразу выбросы и некорректные значения (не должно быть прослушивания музыки 24 часа в сутки). Уберем выбросы через расчеты размаха\n",
    "def outliners(x):\n",
    "  q1 = x.quantile(0.25)\n",
    "  q3 = x.quantile(0.75)\n",
    "  iqr = q3 - q1\n",
    "  lower_bound = q1 - (1.5 * iqr)\n",
    "  upper_bound = q3 + (1.5 * iqr)\n",
    "  return lower_bound, upper_bound"
   ]
  },
  {
   "cell_type": "code",
   "execution_count": 267,
   "id": "fc436bcb",
   "metadata": {},
   "outputs": [
    {
     "data": {
      "text/plain": [
       "(-2.5, 9.5)"
      ]
     },
     "execution_count": 267,
     "metadata": {},
     "output_type": "execute_result"
    }
   ],
   "source": [
    "outliners_hours = outliners(df['Hours per day'])\n",
    "outliners_hours"
   ]
  },
  {
   "cell_type": "code",
   "execution_count": 271,
   "id": "56f5ae96",
   "metadata": {},
   "outputs": [],
   "source": [
    "# на графике все же значительное количество людей слушают музыку больше 10 часов, поэтому применим гипотезу, что есть люди, которые слушают музыку все время, кроме сна(8 часов)\n",
    "# т.е. удалим строки, где музыку слушают больше 16 часов\n",
    "df_hist = df[df['Hours per day'] <= 16]"
   ]
  },
  {
   "cell_type": "code",
   "execution_count": 272,
   "id": "1e7114c5",
   "metadata": {},
   "outputs": [
    {
     "data": {
      "text/plain": [
       "Text(0.5, 1.0, 'Распределение, сколько часов люди слушают музыку в день')"
      ]
     },
     "execution_count": 272,
     "metadata": {},
     "output_type": "execute_result"
    },
    {
     "data": {
      "image/png": "[encoded data removed]",
      "text/plain": [
       "<Figure size 432x288 with 1 Axes>"
      ]
     },
     "metadata": {
      "needs_background": "light"
     },
     "output_type": "display_data"
    }
   ],
   "source": [
    "df_hist['Hours per day'].plot(kind='hist', bins=20)\n",
    "plt.title('Распределение, сколько часов люди слушают музыку в день')"
   ]
  },
  {
   "cell_type": "markdown",
   "id": "310fccba",
   "metadata": {},
   "source": [
    "В среднем люди в исследовании слушают музыку 1-2 часа. Особо нам это ничего не дает, поэтому будем строить следующие графики"
   ]
  },
  {
   "cell_type": "code",
   "execution_count": 273,
   "id": "97597417",
   "metadata": {},
   "outputs": [
    {
     "data": {
      "text/plain": [
       "<matplotlib.legend.Legend at 0x275f3c17fa0>"
      ]
     },
     "execution_count": 273,
     "metadata": {},
     "output_type": "execute_result"
    },
    {
     "data": {
      "image/png": "[encoded data removed]",
      "text/plain": [
       "<Figure size 432x288 with 1 Axes>"
      ]
     },
     "metadata": {
      "needs_background": "light"
     },
     "output_type": "display_data"
    }
   ],
   "source": [
    "# чтоб потренироваться и несколько гистограмм сравнить, построим несколько гистограмм сразу по оценке болезней\n",
    "df_hist['Anxiety'].plot(kind='hist',\n",
    "                   alpha = 0.2,\n",
    "                   bins=10,\n",
    "                   density = True)\n",
    "\n",
    "df_hist['Depression'].plot(kind='hist',\n",
    "                   alpha = 0.2,\n",
    "                   bins=10,\n",
    "                   density = True)\n",
    "\n",
    "df_hist['Insomnia'].plot(kind='hist',\n",
    "                   alpha = 0.2,\n",
    "                   bins=10,\n",
    "                   density = True)\n",
    "\n",
    "df_hist['OCD'].plot(kind='hist',\n",
    "                   alpha = 0.2,\n",
    "                   bins=10,\n",
    "                   density = True)\n",
    "\n",
    "plt.legend(loc='upper right')"
   ]
  },
  {
   "cell_type": "code",
   "execution_count": 274,
   "id": "c23911fa",
   "metadata": {},
   "outputs": [
    {
     "data": {
      "text/plain": [
       "Text(0.5, 1.0, 'Сравнение распределений нервных расстройств респондентов')"
      ]
     },
     "execution_count": 274,
     "metadata": {},
     "output_type": "execute_result"
    },
    {
     "data": {
      "image/png": "[encoded data removed]",
      "text/plain": [
       "<Figure size 432x288 with 1 Axes>"
      ]
     },
     "metadata": {
      "needs_background": "light"
     },
     "output_type": "display_data"
    }
   ],
   "source": [
    "# уберем OCD, а то слишком сильное наложение, к тому же судя по всему люди меньше всего этому расстройству подвержены\n",
    "df_hist['Anxiety'].plot(kind='hist',\n",
    "                   alpha = 0.2,\n",
    "                   bins=10,\n",
    "                   density = True)\n",
    "\n",
    "df_hist['Depression'].plot(kind='hist',\n",
    "                   alpha = 0.2,\n",
    "                   bins=10,\n",
    "                   density = True)\n",
    "\n",
    "df_hist['Insomnia'].plot(kind='hist',\n",
    "                   alpha = 0.2,\n",
    "                   bins=10,\n",
    "                   density = True)\n",
    "plt.legend(loc='upper right')\n",
    "plt.title('Сравнение распределений нервных расстройств респондентов')"
   ]
  },
  {
   "cell_type": "markdown",
   "id": "998775cf",
   "metadata": {},
   "source": [
    "Можно подумать о гипотезе, что люди, страюающие каким-то одним расстройством, скорее всего страдают и другими расстройствами в т.ч., в частности, при высокой тревожности Anxiety человек страдает также от депрессии и бессонницы. Поэтому можно ориентироваться в анализе, например, только на один показатель"
   ]
  },
  {
   "cell_type": "markdown",
   "id": "b0815743",
   "metadata": {},
   "source": [
    "### 2. Столбчатая диаграмма"
   ]
  },
  {
   "cell_type": "code",
   "execution_count": 275,
   "id": "52f0d368",
   "metadata": {},
   "outputs": [
    {
     "data": {
      "text/html": [
       "<div>\n",
       "<style scoped>\n",
       "    .dataframe tbody tr th:only-of-type {\n",
       "        vertical-align: middle;\n",
       "    }\n",
       "\n",
       "    .dataframe tbody tr th {\n",
       "        vertical-align: top;\n",
       "    }\n",
       "\n",
       "    .dataframe thead th {\n",
       "        text-align: right;\n",
       "    }\n",
       "</style>\n",
       "<table border=\"1\" class=\"dataframe\">\n",
       "  <thead>\n",
       "    <tr style=\"text-align: right;\">\n",
       "      <th></th>\n",
       "      <th>Age</th>\n",
       "    </tr>\n",
       "    <tr>\n",
       "      <th>Primary streaming service</th>\n",
       "      <th></th>\n",
       "    </tr>\n",
       "  </thead>\n",
       "  <tbody>\n",
       "    <tr>\n",
       "      <th>Apple Music</th>\n",
       "      <td>24.215686</td>\n",
       "    </tr>\n",
       "    <tr>\n",
       "      <th>I do not use a streaming service.</th>\n",
       "      <td>31.605634</td>\n",
       "    </tr>\n",
       "    <tr>\n",
       "      <th>Other streaming service</th>\n",
       "      <td>30.220000</td>\n",
       "    </tr>\n",
       "    <tr>\n",
       "      <th>Pandora</th>\n",
       "      <td>50.181818</td>\n",
       "    </tr>\n",
       "    <tr>\n",
       "      <th>Spotify</th>\n",
       "      <td>22.688453</td>\n",
       "    </tr>\n",
       "    <tr>\n",
       "      <th>YouTube Music</th>\n",
       "      <td>27.542553</td>\n",
       "    </tr>\n",
       "  </tbody>\n",
       "</table>\n",
       "</div>"
      ],
      "text/plain": [
       "                                         Age\n",
       "Primary streaming service                   \n",
       "Apple Music                        24.215686\n",
       "I do not use a streaming service.  31.605634\n",
       "Other streaming service            30.220000\n",
       "Pandora                            50.181818\n",
       "Spotify                            22.688453\n",
       "YouTube Music                      27.542553"
      ]
     },
     "execution_count": 275,
     "metadata": {},
     "output_type": "execute_result"
    }
   ],
   "source": [
    "# Посмотрим средний возраст пользователей стриминговых сервисов\n",
    "df_column = df[['Age', 'Primary streaming service']].groupby('Primary streaming service').mean()\n",
    "df_column"
   ]
  },
  {
   "cell_type": "code",
   "execution_count": 276,
   "id": "7552e555",
   "metadata": {},
   "outputs": [
    {
     "data": {
      "image/png": "[encoded data removed]",
      "text/plain": [
       "<Figure size 432x288 with 1 Axes>"
      ]
     },
     "metadata": {
      "needs_background": "light"
     },
     "output_type": "display_data"
    }
   ],
   "source": [
    "df_column.plot(kind = 'bar', \n",
    "         title = 'Средний возраст пользователей стриминговых платформ',\n",
    "        xlabel = 'Платформа',\n",
    "        ylabel = 'Средний возраст')\n",
    "for i, val in enumerate(df_column.values):\n",
    "    plt.text(i, val, int(val), horizontalalignment='center', verticalalignment='bottom', fontdict={'size':10})"
   ]
  },
  {
   "cell_type": "markdown",
   "id": "277327a3",
   "metadata": {},
   "source": [
    "Гипотеза: молодые пользователи предпочитают использовать Spotify, при этом Pandora используется только людьми старшего возраста"
   ]
  },
  {
   "cell_type": "markdown",
   "id": "db6690f9",
   "metadata": {},
   "source": [
    "### 3. Scatter plot"
   ]
  },
  {
   "cell_type": "code",
   "execution_count": 277,
   "id": "12b6e988",
   "metadata": {},
   "outputs": [
    {
     "data": {
      "text/plain": [
       "(0.0, 16.0)"
      ]
     },
     "execution_count": 277,
     "metadata": {},
     "output_type": "execute_result"
    },
    {
     "data": {
      "image/png": "[encoded data removed]",
      "text/plain": [
       "<Figure size 432x288 with 1 Axes>"
      ]
     },
     "metadata": {
      "needs_background": "light"
     },
     "output_type": "display_data"
    }
   ],
   "source": [
    "# посмотрим на взаимосвязь тревожности и времени прослушивания музыки пользователем\n",
    "df.plot(kind='scatter',\n",
    "       x='Hours per day',\n",
    "       y='Anxiety',\n",
    "       title='Корреляция между тревожностью и временем, кот. человек тратит на прослушивание музыки в день')\n",
    "plt.xlim(0,16)"
   ]
  },
  {
   "cell_type": "markdown",
   "id": "25d3301f",
   "metadata": {},
   "source": [
    "Никакой зависимости не наблюдается. Люди, страдающие тревожностью, могут слушать музыку как 0 часов в день, так и больше 10-ти. Соответственно, количество часов, которое челвоек тратит на прослушивание музыки в день, никак не влияет на его психическое состояние."
   ]
  },
  {
   "cell_type": "markdown",
   "id": "f90f15f1",
   "metadata": {},
   "source": [
    "### 4. Pairplot"
   ]
  },
  {
   "cell_type": "code",
   "execution_count": 278,
   "id": "5308f3fb",
   "metadata": {},
   "outputs": [
    {
     "data": {
      "text/plain": [
       "<seaborn.axisgrid.PairGrid at 0x275f3db2760>"
      ]
     },
     "execution_count": 278,
     "metadata": {},
     "output_type": "execute_result"
    },
    {
     "data": {
      "image/png": "[encoded data removed]",
      "text/plain": [
       "<Figure size 618.875x540 with 12 Axes>"
      ]
     },
     "metadata": {
      "needs_background": "light"
     },
     "output_type": "display_data"
    }
   ],
   "source": [
    "# попробуем сравнить между собой показатели тревожности, возраст и количество часов в день, отделяя, слушает ли пока работает\n",
    "sns.pairplot(df[['Anxiety', 'Age', 'Hours per day', 'While working']], hue=\"While working\")"
   ]
  },
  {
   "cell_type": "markdown",
   "id": "95662ee3",
   "metadata": {},
   "source": [
    "Никакой, честно говоря, взаимосвязи тоже не прослеживается. Чем старше люди, тем реже они слушают музыку долго. Но молодые люди также слушают музыку в основном не очень много. С тревожностью вообще никакой зависимости"
   ]
  },
  {
   "cell_type": "markdown",
   "id": "7fb715a8",
   "metadata": {},
   "source": [
    "### 5. Тепловая карта"
   ]
  },
  {
   "cell_type": "code",
   "execution_count": 279,
   "id": "f3432f2f",
   "metadata": {},
   "outputs": [
    {
     "data": {
      "text/html": [
       "<div>\n",
       "<style scoped>\n",
       "    .dataframe tbody tr th:only-of-type {\n",
       "        vertical-align: middle;\n",
       "    }\n",
       "\n",
       "    .dataframe tbody tr th {\n",
       "        vertical-align: top;\n",
       "    }\n",
       "\n",
       "    .dataframe thead th {\n",
       "        text-align: right;\n",
       "    }\n",
       "</style>\n",
       "<table border=\"1\" class=\"dataframe\">\n",
       "  <thead>\n",
       "    <tr style=\"text-align: right;\">\n",
       "      <th></th>\n",
       "      <th>Anxiety</th>\n",
       "      <th>Depression</th>\n",
       "      <th>Insomnia</th>\n",
       "      <th>OCD</th>\n",
       "    </tr>\n",
       "    <tr>\n",
       "      <th>Fav genre</th>\n",
       "      <th></th>\n",
       "      <th></th>\n",
       "      <th></th>\n",
       "      <th></th>\n",
       "    </tr>\n",
       "  </thead>\n",
       "  <tbody>\n",
       "    <tr>\n",
       "      <th>Classical</th>\n",
       "      <td>4.886792</td>\n",
       "      <td>4.075472</td>\n",
       "      <td>3.792453</td>\n",
       "      <td>2.377358</td>\n",
       "    </tr>\n",
       "    <tr>\n",
       "      <th>Country</th>\n",
       "      <td>5.400000</td>\n",
       "      <td>4.320000</td>\n",
       "      <td>2.720000</td>\n",
       "      <td>2.760000</td>\n",
       "    </tr>\n",
       "    <tr>\n",
       "      <th>EDM</th>\n",
       "      <td>5.388889</td>\n",
       "      <td>5.166667</td>\n",
       "      <td>3.944444</td>\n",
       "      <td>2.805556</td>\n",
       "    </tr>\n",
       "    <tr>\n",
       "      <th>Folk</th>\n",
       "      <td>6.566667</td>\n",
       "      <td>5.066667</td>\n",
       "      <td>3.633333</td>\n",
       "      <td>2.200000</td>\n",
       "    </tr>\n",
       "    <tr>\n",
       "      <th>Gospel</th>\n",
       "      <td>4.833333</td>\n",
       "      <td>2.666667</td>\n",
       "      <td>5.333333</td>\n",
       "      <td>0.333333</td>\n",
       "    </tr>\n",
       "    <tr>\n",
       "      <th>Hip hop</th>\n",
       "      <td>6.200000</td>\n",
       "      <td>5.800000</td>\n",
       "      <td>3.428571</td>\n",
       "      <td>2.714286</td>\n",
       "    </tr>\n",
       "    <tr>\n",
       "      <th>Jazz</th>\n",
       "      <td>5.900000</td>\n",
       "      <td>4.500000</td>\n",
       "      <td>3.850000</td>\n",
       "      <td>2.800000</td>\n",
       "    </tr>\n",
       "    <tr>\n",
       "      <th>K pop</th>\n",
       "      <td>6.230769</td>\n",
       "      <td>4.423077</td>\n",
       "      <td>3.461538</td>\n",
       "      <td>2.538462</td>\n",
       "    </tr>\n",
       "    <tr>\n",
       "      <th>Latin</th>\n",
       "      <td>4.333333</td>\n",
       "      <td>3.000000</td>\n",
       "      <td>3.333333</td>\n",
       "      <td>1.666667</td>\n",
       "    </tr>\n",
       "    <tr>\n",
       "      <th>Lofi</th>\n",
       "      <td>6.100000</td>\n",
       "      <td>6.600000</td>\n",
       "      <td>5.600000</td>\n",
       "      <td>3.400000</td>\n",
       "    </tr>\n",
       "    <tr>\n",
       "      <th>Metal</th>\n",
       "      <td>5.761364</td>\n",
       "      <td>5.068182</td>\n",
       "      <td>4.556818</td>\n",
       "      <td>2.397727</td>\n",
       "    </tr>\n",
       "    <tr>\n",
       "      <th>Pop</th>\n",
       "      <td>6.074561</td>\n",
       "      <td>4.486842</td>\n",
       "      <td>3.368421</td>\n",
       "      <td>2.855263</td>\n",
       "    </tr>\n",
       "    <tr>\n",
       "      <th>R&amp;B</th>\n",
       "      <td>5.171429</td>\n",
       "      <td>3.828571</td>\n",
       "      <td>2.885714</td>\n",
       "      <td>2.742857</td>\n",
       "    </tr>\n",
       "    <tr>\n",
       "      <th>Rap</th>\n",
       "      <td>5.250000</td>\n",
       "      <td>4.150000</td>\n",
       "      <td>2.500000</td>\n",
       "      <td>3.350000</td>\n",
       "    </tr>\n",
       "    <tr>\n",
       "      <th>Rock</th>\n",
       "      <td>6.118280</td>\n",
       "      <td>5.233871</td>\n",
       "      <td>3.819892</td>\n",
       "      <td>2.658602</td>\n",
       "    </tr>\n",
       "    <tr>\n",
       "      <th>Video game music</th>\n",
       "      <td>5.886364</td>\n",
       "      <td>4.477273</td>\n",
       "      <td>4.000000</td>\n",
       "      <td>2.386364</td>\n",
       "    </tr>\n",
       "  </tbody>\n",
       "</table>\n",
       "</div>"
      ],
      "text/plain": [
       "                   Anxiety  Depression  Insomnia       OCD\n",
       "Fav genre                                                 \n",
       "Classical         4.886792    4.075472  3.792453  2.377358\n",
       "Country           5.400000    4.320000  2.720000  2.760000\n",
       "EDM               5.388889    5.166667  3.944444  2.805556\n",
       "Folk              6.566667    5.066667  3.633333  2.200000\n",
       "Gospel            4.833333    2.666667  5.333333  0.333333\n",
       "Hip hop           6.200000    5.800000  3.428571  2.714286\n",
       "Jazz              5.900000    4.500000  3.850000  2.800000\n",
       "K pop             6.230769    4.423077  3.461538  2.538462\n",
       "Latin             4.333333    3.000000  3.333333  1.666667\n",
       "Lofi              6.100000    6.600000  5.600000  3.400000\n",
       "Metal             5.761364    5.068182  4.556818  2.397727\n",
       "Pop               6.074561    4.486842  3.368421  2.855263\n",
       "R&B               5.171429    3.828571  2.885714  2.742857\n",
       "Rap               5.250000    4.150000  2.500000  3.350000\n",
       "Rock              6.118280    5.233871  3.819892  2.658602\n",
       "Video game music  5.886364    4.477273  4.000000  2.386364"
      ]
     },
     "execution_count": 279,
     "metadata": {},
     "output_type": "execute_result"
    }
   ],
   "source": [
    "# посчитаем средние значения тревожностей и посмотрим их зависимость от любимого жанра\n",
    "df_heatplot = df2[['Fav genre', 'Anxiety', 'Depression', 'Insomnia', 'OCD']].groupby('Fav genre').mean()\n",
    "df_heatplot"
   ]
  },
  {
   "cell_type": "code",
   "execution_count": 280,
   "id": "b9319aea",
   "metadata": {},
   "outputs": [
    {
     "data": {
      "text/plain": [
       "Text(0.5, 1.0, 'Уровень тревожного расстройства и любимый жанр музыки')"
      ]
     },
     "execution_count": 280,
     "metadata": {},
     "output_type": "execute_result"
    },
    {
     "data": {
      "image/png": "[encoded data removed]",
      "text/plain": [
       "<Figure size 432x288 with 2 Axes>"
      ]
     },
     "metadata": {
      "needs_background": "light"
     },
     "output_type": "display_data"
    }
   ],
   "source": [
    "sns.heatmap(df_heatplot, cmap='flare')\n",
    "plt.title('Уровень тревожного расстройства и любимый жанр музыки')"
   ]
  },
  {
   "cell_type": "markdown",
   "id": "d929b94f",
   "metadata": {},
   "source": [
    "Явно выделяется, что те, кто любимт Gospel и Lofi стратают бессонницей. При этом В среднем все респонденты страдают тревожностью вне зависимости от того, какой у них любимый жанр. От депрессии меньше всего страдают те, кто слушают Gospel и Latin. А те, кто слушает Lofi, еще и от депрессии страдают. Можно выдвинуть гипотезу, что Lofi - жанр музыки для любителей посидеть ночью с депрессией."
   ]
  },
  {
   "cell_type": "markdown",
   "id": "1339a256",
   "metadata": {},
   "source": [
    "### 6. Boxplot"
   ]
  },
  {
   "cell_type": "code",
   "execution_count": 281,
   "id": "4a62fd3e",
   "metadata": {},
   "outputs": [
    {
     "data": {
      "image/png": "[encoded data removed]",
      "text/plain": [
       "<Figure size 432x288 with 1 Axes>"
      ]
     },
     "metadata": {
      "needs_background": "light"
     },
     "output_type": "display_data"
    }
   ],
   "source": [
    "# посмотрим сначала уровень тревожности в зависимости от любимого жанра\n",
    "sns.boxplot(x='Fav genre', y='Anxiety', data=df2)\n",
    "plt.xticks(rotation=45, \n",
    "           ha='right');"
   ]
  },
  {
   "cell_type": "code",
   "execution_count": 283,
   "id": "fc091c7d",
   "metadata": {},
   "outputs": [],
   "source": [
    "# сделаем пару df, чтобы посмотреть, как влияет высокая частота прослушивания Gospel и Lofi на психологические расстройства\n",
    "df_Gospel = df[df['Frequency [Gospel]'] == 3]\n",
    "df_Lofi = df[df['Frequency [Lofi]'] == 3]"
   ]
  },
  {
   "cell_type": "code",
   "execution_count": 284,
   "id": "e02c203b",
   "metadata": {},
   "outputs": [
    {
     "data": {
      "image/png": "[encoded data removed]",
      "text/plain": [
       "<Figure size 432x288 with 1 Axes>"
      ]
     },
     "metadata": {
      "needs_background": "light"
     },
     "output_type": "display_data"
    }
   ],
   "source": [
    "plt.boxplot([df_Gospel['Anxiety'], df_Lofi['Anxiety'], df_Gospel['Depression'], df_Lofi['Depression'], df_Gospel['Insomnia'], df_Lofi['Insomnia'], df_Gospel['OCD'], df_Lofi['OCD']])\n",
    "plt.show()"
   ]
  },
  {
   "cell_type": "markdown",
   "id": "e5f271d7",
   "metadata": {},
   "source": [
    "Мы тут сравнивали между собой только зависимость расстройств от частого прослушивания Gospel и Lofi. Получается, что люди, у которых преобладают расстройства (любые), чаще слушают Lofe, при этом в Gospel высокие уровни тревожности или OCD встречаются гораздо реже - отдельные выбросы. Скорее всего эти типы музыки люди просто реже слушают"
   ]
  },
  {
   "cell_type": "code",
   "execution_count": null,
   "id": "dbc7d178",
   "metadata": {},
   "outputs": [],
   "source": []
  }
 ],
 "metadata": {
  "kernelspec": {
   "display_name": "Python 3 (ipykernel)",
   "language": "python",
   "name": "python3"
  },
  "language_info": {
   "codemirror_mode": {
    "name": "ipython",
    "version": 3
   },
   "file_extension": ".py",
   "mimetype": "text/x-python",
   "name": "python",
   "nbconvert_exporter": "python",
   "pygments_lexer": "ipython3",
   "version": "3.9.12"
  }
 },
 "nbformat": 4,
 "nbformat_minor": 5
}
